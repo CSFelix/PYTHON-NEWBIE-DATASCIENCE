{
 "cells": [
  {
   "cell_type": "markdown",
   "metadata": {
    "slideshow": {
     "slide_type": "slide"
    }
   },
   "source": [
    "<center><h1><span style=\"color:red\">\n",
    "Análise de Salários da População de Chicago - EUA\n",
    "</span></h1></center>\n",
    "\n",
    "<p><b>by Felix</b></p>"
   ]
  },
  {
   "cell_type": "markdown",
   "metadata": {},
   "source": [
    "<center><h2 style=\"color:red\">Descrição do Caso</h2></center>\n",
    "\n",
    "</br></br>\n",
    "\n",
    "<p style=\"color:blue\">O arquivo <i>salarios.csv</i> consiste num dataset de salários da população trabalhadora de Chicago. Sua função é realizar uma análise de dados que consiga encontrar os quinze registros com os maiores/menores salários, salvá-los em um novo arquivo csv (separados) e montar gráficos demonstrativos. Resumidamente, sua missão é:</p>\n",
    "\n",
    "</br></br>\n",
    "\n",
    "<ol style=\"color:blue\">\n",
    "    <li>Salvar num arquivo <i>csv</i> os quinze registros com os maiores salários;</li>\n",
    "    <li>Salvar num arquivo <i>csv</i> os quinze registros com os menores salários;</li>\n",
    "    <li>Criar um gráfico de barras para cada arquivo criado anteriormente (passos 1 e 2) e depois um gráfico de linhas destacando as médias dos salários contidos em ambos os arquivos;</li>\n",
    "    <li>Unir ambos os arquivos csv's num único <i>JSON</i>;</li>\n",
    "    <li>Salvar os dados num arquivo <i>txt</i>.</li>\n",
    "</ol>\n",
    "\n",
    "</br></br>\n",
    "<hr>\n",
    "</br></br>"
   ]
  },
  {
   "cell_type": "markdown",
   "metadata": {},
   "source": [
    "<center><h2 style=\"color:red\">Estrutura do Arquivo CSV</h2></center>\n",
    "\n",
    "</br></br>\n",
    "\n",
    "<table style=\"border-collapse: collapse; border: 1px solid black\">\n",
    "    <tr>\n",
    "        <th style=\"text-align:center; border-collapse: collapse; border: 1px solid black\">Nome/Name</th>\n",
    "        <th style=\"text-align:center; border-collapse: collapse; border: 1px solid black\">Cargo/Position Title</th>\n",
    "        <th style=\"text-align:center; border-collapse: collapse; border: 1px solid black\">Departamento/Department</th>\n",
    "        <th style=\"text-align:center; border-collapse: collapse; border: 1px solid black\">Salário Anual/Employee Annual Salary</th>\n",
    "    </tr>\n",
    "    <tr>\n",
    "        <td style=\"text-align:center; border-collapse: collapse; border: 1px solid black\">Felix</td>\n",
    "        <td style=\"text-align:center; border-collapse: collapse; border: 1px solid black\">Cientista de Dados</td>\n",
    "        <td style=\"text-align:center; border-collapse: collapse; border: 1px solid black\">Financeiro</td>\n",
    "        <td style=\"text-align:center; border-collapse: collapse; border: 1px solid black\">20000</td>\n",
    "    </tr>\n",
    "    <tr>\n",
    "        <td style=\"text-align:center; border-collapse: collapse; border: 1px solid black\">Gui</td>\n",
    "        <td style=\"text-align:center; border-collapse: collapse; border: 1px solid black\">Programador Backend</td>\n",
    "        <td style=\"text-align:center; border-collapse: collapse; border: 1px solid black\">Recursos Humanos</td>\n",
    "        <td style=\"text-align:center; border-collapse: collapse; border: 1px solid black\">21000</td>\n",
    "    </tr>\n",
    "</table>\n",
    "\n",
    "</br></br>\n",
    "<hr>\n",
    "</br></br>"
   ]
  },
  {
   "cell_type": "markdown",
   "metadata": {},
   "source": [
    "<h3 style=\"color:red\">** Ferramentas **</h3>"
   ]
  },
  {
   "cell_type": "code",
   "execution_count": 1,
   "metadata": {},
   "outputs": [],
   "source": [
    "# Importações\n",
    "import pandas as pd\n",
    "import matplotlib.pyplot as plt\n",
    "import csv, json\n",
    "import numpy as np"
   ]
  },
  {
   "cell_type": "code",
   "execution_count": 2,
   "metadata": {},
   "outputs": [],
   "source": [
    "# Funções\n",
    "def Limpeza_Salario(lista):\n",
    "    \"\"\"Converte a coluna de salários de string para float\"\"\"\n",
    "    index = 0\n",
    "    for linha in lista: \n",
    "        lista[index][3] = float(linha[3].replace('$', ''))\n",
    "        index += 1\n",
    "        \n",
    "def Extracao_Salario(lista):\n",
    "    \"\"\"Retorna uma lista contendo apenas os salários\"\"\"\n",
    "    salarios = []\n",
    "    for linha in lista: salarios.append(linha[3])\n",
    "    return salarios\n",
    "    \n",
    "def Extracao_Nome_Salario(lista):\n",
    "    \"\"\"Retorna duas listas: uma contendo os nomes dos trabalhadores, a outra, os salários\"\"\"\n",
    "    nomes, salarios = [], []\n",
    "    \n",
    "    for linha in lista: \n",
    "        linha[0] = linha[0].split(',')[0].capitalize()\n",
    "        nomes.append(linha[0])\n",
    "        salarios.append(linha[3])\n",
    "        \n",
    "    return nomes, salarios\n",
    "\n",
    "def Separacao_Dados(lista):\n",
    "    \"\"\"Retorna quatro listas: uma para os nomes, outra para cargos, outra para departamentos e a última para os salários\"\"\"\n",
    "    nomes, cargos, departamentos, salarios = [], [], [], []\n",
    "    \n",
    "    for linha in lista:\n",
    "        nomes.append(linha[0])\n",
    "        cargos.append(linha[1])\n",
    "        departamentos.append(linha[2])\n",
    "        salarios.append(linha[3])\n",
    "        \n",
    "    return nomes, cargos, departamentos, salarios"
   ]
  },
  {
   "cell_type": "code",
   "execution_count": 3,
   "metadata": {},
   "outputs": [
    {
     "data": {
      "text/html": [
       "<div>\n",
       "<style scoped>\n",
       "    .dataframe tbody tr th:only-of-type {\n",
       "        vertical-align: middle;\n",
       "    }\n",
       "\n",
       "    .dataframe tbody tr th {\n",
       "        vertical-align: top;\n",
       "    }\n",
       "\n",
       "    .dataframe thead th {\n",
       "        text-align: right;\n",
       "    }\n",
       "</style>\n",
       "<table border=\"1\" class=\"dataframe\">\n",
       "  <thead>\n",
       "    <tr style=\"text-align: right;\">\n",
       "      <th></th>\n",
       "      <th>Name</th>\n",
       "      <th>Position Title</th>\n",
       "      <th>Department</th>\n",
       "      <th>Employee Annual Salary</th>\n",
       "    </tr>\n",
       "  </thead>\n",
       "  <tbody>\n",
       "    <tr>\n",
       "      <th>count</th>\n",
       "      <td>32179</td>\n",
       "      <td>32179</td>\n",
       "      <td>32179</td>\n",
       "      <td>32179.000000</td>\n",
       "    </tr>\n",
       "    <tr>\n",
       "      <th>unique</th>\n",
       "      <td>31891</td>\n",
       "      <td>1094</td>\n",
       "      <td>35</td>\n",
       "      <td>NaN</td>\n",
       "    </tr>\n",
       "    <tr>\n",
       "      <th>top</th>\n",
       "      <td>RIVERA,  RICARDO</td>\n",
       "      <td>POLICE OFFICER</td>\n",
       "      <td>POLICE</td>\n",
       "      <td>NaN</td>\n",
       "    </tr>\n",
       "    <tr>\n",
       "      <th>freq</th>\n",
       "      <td>4</td>\n",
       "      <td>9488</td>\n",
       "      <td>13569</td>\n",
       "      <td>NaN</td>\n",
       "    </tr>\n",
       "    <tr>\n",
       "      <th>mean</th>\n",
       "      <td>NaN</td>\n",
       "      <td>NaN</td>\n",
       "      <td>NaN</td>\n",
       "      <td>79167.171330</td>\n",
       "    </tr>\n",
       "    <tr>\n",
       "      <th>std</th>\n",
       "      <td>NaN</td>\n",
       "      <td>NaN</td>\n",
       "      <td>NaN</td>\n",
       "      <td>24463.054227</td>\n",
       "    </tr>\n",
       "    <tr>\n",
       "      <th>min</th>\n",
       "      <td>NaN</td>\n",
       "      <td>NaN</td>\n",
       "      <td>NaN</td>\n",
       "      <td>0.960000</td>\n",
       "    </tr>\n",
       "    <tr>\n",
       "      <th>25%</th>\n",
       "      <td>NaN</td>\n",
       "      <td>NaN</td>\n",
       "      <td>NaN</td>\n",
       "      <td>69888.000000</td>\n",
       "    </tr>\n",
       "    <tr>\n",
       "      <th>50%</th>\n",
       "      <td>NaN</td>\n",
       "      <td>NaN</td>\n",
       "      <td>NaN</td>\n",
       "      <td>83616.000000</td>\n",
       "    </tr>\n",
       "    <tr>\n",
       "      <th>75%</th>\n",
       "      <td>NaN</td>\n",
       "      <td>NaN</td>\n",
       "      <td>NaN</td>\n",
       "      <td>91764.000000</td>\n",
       "    </tr>\n",
       "    <tr>\n",
       "      <th>max</th>\n",
       "      <td>NaN</td>\n",
       "      <td>NaN</td>\n",
       "      <td>NaN</td>\n",
       "      <td>260004.000000</td>\n",
       "    </tr>\n",
       "  </tbody>\n",
       "</table>\n",
       "</div>"
      ],
      "text/plain": [
       "                    Name  Position Title Department  Employee Annual Salary\n",
       "count              32179           32179      32179            32179.000000\n",
       "unique             31891            1094         35                     NaN\n",
       "top     RIVERA,  RICARDO  POLICE OFFICER     POLICE                     NaN\n",
       "freq                   4            9488      13569                     NaN\n",
       "mean                 NaN             NaN        NaN            79167.171330\n",
       "std                  NaN             NaN        NaN            24463.054227\n",
       "min                  NaN             NaN        NaN                0.960000\n",
       "25%                  NaN             NaN        NaN            69888.000000\n",
       "50%                  NaN             NaN        NaN            83616.000000\n",
       "75%                  NaN             NaN        NaN            91764.000000\n",
       "max                  NaN             NaN        NaN           260004.000000"
      ]
     },
     "execution_count": 3,
     "metadata": {},
     "output_type": "execute_result"
    }
   ],
   "source": [
    "# Leitura do arquivo 'salarios.csv'\n",
    "arquivo = pd.read_csv('arquivos/salarios.csv')\n",
    "arquivo.dropna(inplace = True) # retira 'null values'\n",
    "arquivo.describe(include = ['object', 'float']) # 'include' considera os tipos de dados para análise. Por padrão, o 'describe'\n",
    "# opta por valores numéricos, logo, peço para considerar objetos (strings) e floats. 'NaN' é utilizado quando a coluna não\n",
    "# possui tal dado relacionado"
   ]
  },
  {
   "cell_type": "markdown",
   "metadata": {},
   "source": [
    "<h3 style='color:red'>0) Limpeza dos Dados</h3>"
   ]
  },
  {
   "cell_type": "code",
   "execution_count": null,
   "metadata": {},
   "outputs": [],
   "source": [
    "arquivo = arquivo.values.tolist() # transforma tabela em lista\n",
    "# Limpeza_Salario(arquivo) # retira o cifrão da coluna do salário e transforma o dado em float"
   ]
  },
  {
   "cell_type": "code",
   "execution_count": null,
   "metadata": {},
   "outputs": [],
   "source": [
    "# reescrita do arquivo com a coluna de salário limpa\n",
    "with open('arquivos/salarios.csv', 'w', newline='') as f:\n",
    "    escrita = csv.writer(f)\n",
    "    escrita.writerow(['Name', 'Position Title', 'Department', 'Employee Annual Salary'])\n",
    "    for linha in arquivo: escrita.writerow(linha)"
   ]
  },
  {
   "cell_type": "markdown",
   "metadata": {},
   "source": [
    "<h3 style=\"color:red\">\n",
    "1) Encontrando Quinze Maiores Salários\n",
    "</h3>"
   ]
  },
  {
   "cell_type": "code",
   "execution_count": 4,
   "metadata": {},
   "outputs": [
    {
     "data": {
      "text/html": [
       "<div>\n",
       "<style scoped>\n",
       "    .dataframe tbody tr th:only-of-type {\n",
       "        vertical-align: middle;\n",
       "    }\n",
       "\n",
       "    .dataframe tbody tr th {\n",
       "        vertical-align: top;\n",
       "    }\n",
       "\n",
       "    .dataframe thead th {\n",
       "        text-align: right;\n",
       "    }\n",
       "</style>\n",
       "<table border=\"1\" class=\"dataframe\">\n",
       "  <thead>\n",
       "    <tr style=\"text-align: right;\">\n",
       "      <th></th>\n",
       "      <th>Name</th>\n",
       "      <th>Position Title</th>\n",
       "      <th>Department</th>\n",
       "      <th>Employee Annual Salary</th>\n",
       "    </tr>\n",
       "  </thead>\n",
       "  <tbody>\n",
       "    <tr>\n",
       "      <th>18037</th>\n",
       "      <td>MC CARTHY,  GARRY F</td>\n",
       "      <td>SUPERINTENDENT OF POLICE</td>\n",
       "      <td>POLICE</td>\n",
       "      <td>260004.0</td>\n",
       "    </tr>\n",
       "    <tr>\n",
       "      <th>7978</th>\n",
       "      <td>EMANUEL,  RAHM</td>\n",
       "      <td>MAYOR</td>\n",
       "      <td>MAYOR'S OFFICE</td>\n",
       "      <td>216210.0</td>\n",
       "    </tr>\n",
       "    <tr>\n",
       "      <th>25620</th>\n",
       "      <td>SANTIAGO,  JOSE A</td>\n",
       "      <td>FIRE COMMISSIONER</td>\n",
       "      <td>FIRE</td>\n",
       "      <td>202728.0</td>\n",
       "    </tr>\n",
       "    <tr>\n",
       "      <th>31709</th>\n",
       "      <td>WYSINGER,  ALFONZA</td>\n",
       "      <td>FIRST DEPUTY SUPERINTENDENT</td>\n",
       "      <td>POLICE</td>\n",
       "      <td>197736.0</td>\n",
       "    </tr>\n",
       "    <tr>\n",
       "      <th>29023</th>\n",
       "      <td>TRACY,  ROBERT J</td>\n",
       "      <td>CHIEF</td>\n",
       "      <td>POLICE</td>\n",
       "      <td>194256.0</td>\n",
       "    </tr>\n",
       "    <tr>\n",
       "      <th>8942</th>\n",
       "      <td>FORD II,  RICHARD C</td>\n",
       "      <td>DEPUTY FIRE COMMISSIONER</td>\n",
       "      <td>FIRE</td>\n",
       "      <td>187680.0</td>\n",
       "    </tr>\n",
       "    <tr>\n",
       "      <th>8063</th>\n",
       "      <td>ESCALANTE,  JOHN J</td>\n",
       "      <td>CHIEF</td>\n",
       "      <td>POLICE</td>\n",
       "      <td>185364.0</td>\n",
       "    </tr>\n",
       "    <tr>\n",
       "      <th>9030</th>\n",
       "      <td>FOX,  MICHAEL W</td>\n",
       "      <td>ASST DEPUTY FIRE COMMISSIONER</td>\n",
       "      <td>FIRE</td>\n",
       "      <td>185352.0</td>\n",
       "    </tr>\n",
       "    <tr>\n",
       "      <th>19722</th>\n",
       "      <td>MORITA,  JULIA Y</td>\n",
       "      <td>COMMISSIONER OF HEALTH</td>\n",
       "      <td>HEALTH</td>\n",
       "      <td>177000.0</td>\n",
       "    </tr>\n",
       "    <tr>\n",
       "      <th>25921</th>\n",
       "      <td>SCHRADER,  LISA P</td>\n",
       "      <td>CHIEF OF STAFF</td>\n",
       "      <td>MAYOR'S OFFICE</td>\n",
       "      <td>174996.0</td>\n",
       "    </tr>\n",
       "  </tbody>\n",
       "</table>\n",
       "</div>"
      ],
      "text/plain": [
       "                      Name                 Position Title      Department  \\\n",
       "18037  MC CARTHY,  GARRY F       SUPERINTENDENT OF POLICE          POLICE   \n",
       "7978        EMANUEL,  RAHM                          MAYOR  MAYOR'S OFFICE   \n",
       "25620    SANTIAGO,  JOSE A              FIRE COMMISSIONER            FIRE   \n",
       "31709   WYSINGER,  ALFONZA    FIRST DEPUTY SUPERINTENDENT          POLICE   \n",
       "29023     TRACY,  ROBERT J                          CHIEF          POLICE   \n",
       "8942   FORD II,  RICHARD C       DEPUTY FIRE COMMISSIONER            FIRE   \n",
       "8063    ESCALANTE,  JOHN J                          CHIEF          POLICE   \n",
       "9030       FOX,  MICHAEL W  ASST DEPUTY FIRE COMMISSIONER            FIRE   \n",
       "19722     MORITA,  JULIA Y         COMMISSIONER OF HEALTH          HEALTH   \n",
       "25921    SCHRADER,  LISA P                 CHIEF OF STAFF  MAYOR'S OFFICE   \n",
       "\n",
       "       Employee Annual Salary  \n",
       "18037                260004.0  \n",
       "7978                 216210.0  \n",
       "25620                202728.0  \n",
       "31709                197736.0  \n",
       "29023                194256.0  \n",
       "8942                 187680.0  \n",
       "8063                 185364.0  \n",
       "9030                 185352.0  \n",
       "19722                177000.0  \n",
       "25921                174996.0  "
      ]
     },
     "execution_count": 4,
     "metadata": {},
     "output_type": "execute_result"
    }
   ],
   "source": [
    "arquivo = arquivo.sort_values(by = 'Employee Annual Salary', ascending = False) # ascending: False -> decrescente, True -> crescente\n",
    "arquivo = arquivo.drop_duplicates(subset = 'Employee Annual Salary') # desconsidera dados repetidos\n",
    "arquivo.head(10)"
   ]
  },
  {
   "cell_type": "code",
   "execution_count": 5,
   "metadata": {},
   "outputs": [],
   "source": [
    "maiores_salarios = arquivo.head(10).values.tolist()\n",
    "\n",
    "with open('arquivos/maiores_salarios.csv', 'w', newline = '') as f:\n",
    "    escrita = csv.writer(f)\n",
    "    escrita.writerow(['Name', 'Position Title', 'Department', 'Employee Annual Salary'])\n",
    "    for linha in maiores_salarios: escrita.writerow(linha)\n",
    "        \n",
    "del maiores_salarios"
   ]
  },
  {
   "cell_type": "markdown",
   "metadata": {},
   "source": [
    "<h3 style=\"color:red\">\n",
    "2) Encontrando Quinze Menores Salários\n",
    "</h3>"
   ]
  },
  {
   "cell_type": "code",
   "execution_count": 6,
   "metadata": {},
   "outputs": [
    {
     "data": {
      "text/html": [
       "<div>\n",
       "<style scoped>\n",
       "    .dataframe tbody tr th:only-of-type {\n",
       "        vertical-align: middle;\n",
       "    }\n",
       "\n",
       "    .dataframe tbody tr th {\n",
       "        vertical-align: top;\n",
       "    }\n",
       "\n",
       "    .dataframe thead th {\n",
       "        text-align: right;\n",
       "    }\n",
       "</style>\n",
       "<table border=\"1\" class=\"dataframe\">\n",
       "  <thead>\n",
       "    <tr style=\"text-align: right;\">\n",
       "      <th></th>\n",
       "      <th>Name</th>\n",
       "      <th>Position Title</th>\n",
       "      <th>Department</th>\n",
       "      <th>Employee Annual Salary</th>\n",
       "    </tr>\n",
       "  </thead>\n",
       "  <tbody>\n",
       "    <tr>\n",
       "      <th>15109</th>\n",
       "      <td>KOCH,  STEVEN</td>\n",
       "      <td>ADMINISTRATIVE SECRETARY</td>\n",
       "      <td>MAYOR'S OFFICE</td>\n",
       "      <td>0.96</td>\n",
       "    </tr>\n",
       "    <tr>\n",
       "      <th>4502</th>\n",
       "      <td>CHARLESTON,  EITHELL A</td>\n",
       "      <td>FOSTER GRANDPARENT</td>\n",
       "      <td>FAMILY &amp; SUPPORT</td>\n",
       "      <td>2756.00</td>\n",
       "    </tr>\n",
       "    <tr>\n",
       "      <th>952</th>\n",
       "      <td>ARMSTRONG,  OTIS</td>\n",
       "      <td>ALDERMANIC AIDE</td>\n",
       "      <td>CITY COUNCIL</td>\n",
       "      <td>5200.00</td>\n",
       "    </tr>\n",
       "    <tr>\n",
       "      <th>6320</th>\n",
       "      <td>DATRO,  BLANCA E</td>\n",
       "      <td>LIBRARY PAGE</td>\n",
       "      <td>PUBLIC LIBRARY</td>\n",
       "      <td>6203.60</td>\n",
       "    </tr>\n",
       "    <tr>\n",
       "      <th>14010</th>\n",
       "      <td>JONES,  ERNESTINE</td>\n",
       "      <td>TITLE V PROGRAM TRAINEE I</td>\n",
       "      <td>FAMILY &amp; SUPPORT</td>\n",
       "      <td>8580.00</td>\n",
       "    </tr>\n",
       "    <tr>\n",
       "      <th>26922</th>\n",
       "      <td>SMITH,  KELLY</td>\n",
       "      <td>STUDENT INTERN</td>\n",
       "      <td>FINANCE</td>\n",
       "      <td>8840.00</td>\n",
       "    </tr>\n",
       "    <tr>\n",
       "      <th>31933</th>\n",
       "      <td>ZAMAYOA,  ALYSSA-MARIE</td>\n",
       "      <td>PROGRAM AIDE</td>\n",
       "      <td>POLICE</td>\n",
       "      <td>9360.00</td>\n",
       "    </tr>\n",
       "    <tr>\n",
       "      <th>11783</th>\n",
       "      <td>HAYES,  PATRICIA S</td>\n",
       "      <td>HOSPITALITY WORKER</td>\n",
       "      <td>FAMILY &amp; SUPPORT</td>\n",
       "      <td>9516.00</td>\n",
       "    </tr>\n",
       "    <tr>\n",
       "      <th>14059</th>\n",
       "      <td>JONES,  LACINDA</td>\n",
       "      <td>STUDENT INTERN</td>\n",
       "      <td>HUMAN RESOURCES</td>\n",
       "      <td>9880.00</td>\n",
       "    </tr>\n",
       "    <tr>\n",
       "      <th>9844</th>\n",
       "      <td>GEERS,  DIANE M</td>\n",
       "      <td>ALDERMANIC AIDE</td>\n",
       "      <td>CITY COUNCIL</td>\n",
       "      <td>10400.00</td>\n",
       "    </tr>\n",
       "  </tbody>\n",
       "</table>\n",
       "</div>"
      ],
      "text/plain": [
       "                         Name             Position Title        Department  \\\n",
       "15109           KOCH,  STEVEN   ADMINISTRATIVE SECRETARY    MAYOR'S OFFICE   \n",
       "4502   CHARLESTON,  EITHELL A         FOSTER GRANDPARENT  FAMILY & SUPPORT   \n",
       "952          ARMSTRONG,  OTIS            ALDERMANIC AIDE      CITY COUNCIL   \n",
       "6320         DATRO,  BLANCA E               LIBRARY PAGE    PUBLIC LIBRARY   \n",
       "14010       JONES,  ERNESTINE  TITLE V PROGRAM TRAINEE I  FAMILY & SUPPORT   \n",
       "26922           SMITH,  KELLY             STUDENT INTERN           FINANCE   \n",
       "31933  ZAMAYOA,  ALYSSA-MARIE               PROGRAM AIDE            POLICE   \n",
       "11783      HAYES,  PATRICIA S         HOSPITALITY WORKER  FAMILY & SUPPORT   \n",
       "14059         JONES,  LACINDA             STUDENT INTERN   HUMAN RESOURCES   \n",
       "9844          GEERS,  DIANE M            ALDERMANIC AIDE      CITY COUNCIL   \n",
       "\n",
       "       Employee Annual Salary  \n",
       "15109                    0.96  \n",
       "4502                  2756.00  \n",
       "952                   5200.00  \n",
       "6320                  6203.60  \n",
       "14010                 8580.00  \n",
       "26922                 8840.00  \n",
       "31933                 9360.00  \n",
       "11783                 9516.00  \n",
       "14059                 9880.00  \n",
       "9844                 10400.00  "
      ]
     },
     "execution_count": 6,
     "metadata": {},
     "output_type": "execute_result"
    }
   ],
   "source": [
    "arquivo = arquivo.sort_values(by = 'Employee Annual Salary', ascending = True)\n",
    "arquivo = arquivo.drop_duplicates(subset = 'Employee Annual Salary')\n",
    "arquivo.head(10)"
   ]
  },
  {
   "cell_type": "code",
   "execution_count": 7,
   "metadata": {},
   "outputs": [],
   "source": [
    "menores_salarios = arquivo.head(10).values.tolist()\n",
    "\n",
    "with open('arquivos/menores_salarios.csv', 'w', newline = '') as f:\n",
    "    escrita = csv.writer(f)\n",
    "    escrita.writerow(['Name', 'Position Title', 'Department', 'Employee Annual Salary'])\n",
    "    for linha in menores_salarios: escrita.writerow(linha)\n",
    "        \n",
    "del menores_salarios, arquivo"
   ]
  },
  {
   "cell_type": "markdown",
   "metadata": {},
   "source": [
    "<h3 style=\"color:red\">\n",
    "3) Gráficos\n",
    "</h3>"
   ]
  },
  {
   "cell_type": "code",
   "execution_count": 8,
   "metadata": {},
   "outputs": [],
   "source": [
    "# Lendo arquivos\n",
    "maiores_salarios = Extracao_Salario(pd.read_csv('arquivos/maiores_salarios.csv').values.tolist())\n",
    "menores_salarios = Extracao_Salario(pd.read_csv('arquivos/menores_salarios.csv').values.tolist())"
   ]
  },
  {
   "cell_type": "code",
   "execution_count": 9,
   "metadata": {},
   "outputs": [],
   "source": [
    "# Preparando eixos dos gráficos\n",
    "eixo_x1 = np.arange(1, 11, 1)\n",
    "eixo_y1 = np.array(maiores_salarios)\n",
    "\n",
    "eixo_x2 = np.arange(11, 21, 1)\n",
    "eixo_y2 = np.array(menores_salarios)"
   ]
  },
  {
   "cell_type": "code",
   "execution_count": 10,
   "metadata": {},
   "outputs": [
    {
     "data": {
      "image/png": "[encoded data removed]",
      "text/plain": [
       "<Figure size 504x504 with 1 Axes>"
      ]
     },
     "metadata": {
      "needs_background": "light"
     },
     "output_type": "display_data"
    }
   ],
   "source": [
    "# Gráfico de Dispersão\n",
    "plt.figure(figsize = (7,7))\n",
    "\n",
    "plt.title('Salários Anuais (Dispersão)')\n",
    "plt.xlabel('Index')\n",
    "plt.ylabel('Salário Anual')\n",
    "\n",
    "plt.scatter(eixo_x1, eixo_y1, color = 'green', s = 100, alpha = 0.5)\n",
    "plt.scatter(eixo_x2, eixo_y2, color = 'red', s = 100, alpha = 0.5)\n",
    "\n",
    "plt.tight_layout()"
   ]
  },
  {
   "cell_type": "code",
   "execution_count": 11,
   "metadata": {},
   "outputs": [],
   "source": [
    "del maiores_salarios, menores_salarios, eixo_x1, eixo_x2, eixo_y1, eixo_y2"
   ]
  },
  {
   "cell_type": "code",
   "execution_count": 12,
   "metadata": {},
   "outputs": [],
   "source": [
    "# Lendo arquivos\n",
    "maiores_nomes, maiores_salarios = Extracao_Nome_Salario(pd.read_csv('arquivos/maiores_salarios.csv').values.tolist())\n",
    "menores_nomes, menores_salarios = Extracao_Nome_Salario(pd.read_csv('arquivos/menores_salarios.csv').values.tolist())"
   ]
  },
  {
   "cell_type": "code",
   "execution_count": 13,
   "metadata": {},
   "outputs": [
    {
     "data": {
      "image/png": "[encoded data removed]",
      "text/plain": [
       "<Figure size 1080x504 with 2 Axes>"
      ]
     },
     "metadata": {
      "needs_background": "light"
     },
     "output_type": "display_data"
    }
   ],
   "source": [
    "# Gráficos de Barras\n",
    "plano, dimensoes = plt.subplots(nrows = 2, ncols = 1, figsize = (15,7))\n",
    "\n",
    "# Maiores Salários\n",
    "dimensoes[0].set_title('Maiores Salários')\n",
    "dimensoes[0].set_xlabel('Trabalhador')\n",
    "dimensoes[0].set_ylabel('Salário Anual')\n",
    "\n",
    "dimensoes[0].bar(maiores_nomes, maiores_salarios, color = 'green')\n",
    "\n",
    "# Menores Salários\n",
    "dimensoes[1].set_title('Maiores Salários')\n",
    "dimensoes[1].set_xlabel('Trabalhador')\n",
    "dimensoes[1].set_ylabel('Salário Anual')\n",
    "\n",
    "dimensoes[1].bar(menores_nomes, menores_salarios, color = 'red')\n",
    "\n",
    "dimensoes[1].annotate('$0.96', \n",
    "                      xy = (menores_nomes[0], menores_salarios[0]),\n",
    "                      xytext = (menores_nomes[0], 3000),\n",
    "                      arrowprops=dict(arrowstyle=\"wedge, tail_width = 0.5\",\n",
    "                            connectionstyle=\"angle3,angleA=0,angleB=-90\"),\n",
    "                     bbox=dict(boxstyle=\"round\", alpha=0.1))\n",
    "\n",
    "# Exibição dos Gráficos\n",
    "plano.tight_layout()"
   ]
  },
  {
   "cell_type": "code",
   "execution_count": 14,
   "metadata": {},
   "outputs": [],
   "source": [
    "del maiores_nomes, menores_nomes, maiores_salarios, menores_salarios"
   ]
  },
  {
   "cell_type": "markdown",
   "metadata": {},
   "source": [
    "<h3 style=\"color:red\">\n",
    "4) Conversão dos Dados para JSON\n",
    "</h3>"
   ]
  },
  {
   "cell_type": "code",
   "execution_count": 15,
   "metadata": {},
   "outputs": [],
   "source": [
    "#Lendo arquivos e unindo-os numa única lista\n",
    "maiores_salarios = pd.read_csv('arquivos/maiores_salarios.csv').values.tolist()\n",
    "menores_salarios = pd.read_csv('arquivos/menores_salarios.csv').values.tolist()\n",
    "dataset = maiores_salarios + menores_salarios"
   ]
  },
  {
   "cell_type": "code",
   "execution_count": 16,
   "metadata": {},
   "outputs": [],
   "source": [
    "# Criando dictionary e passando chaves/valores\n",
    "dict = {}\n",
    "nomes, cargos, departamentos, salarios = Separacao_Dados(dataset)\n",
    "\n",
    "dict['Name'] = nomes\n",
    "dict['Position Title'] = cargos\n",
    "dict['Department'] = departamentos\n",
    "dict['Employee Annual Salary'] = salarios"
   ]
  },
  {
   "cell_type": "code",
   "execution_count": 17,
   "metadata": {},
   "outputs": [],
   "source": [
    "# Criando Json\n",
    "arquivo = json.dumps(dict)\n",
    "\n",
    "with open('arquivos/salarios.json', 'w', newline = '') as f:\n",
    "    f.write(arquivo)"
   ]
  },
  {
   "cell_type": "code",
   "execution_count": 18,
   "metadata": {},
   "outputs": [
    {
     "name": "stdout",
     "output_type": "stream",
     "text": [
      "Name : ['MC CARTHY,  GARRY F', 'EMANUEL,  RAHM', 'SANTIAGO,  JOSE A', 'WYSINGER,  ALFONZA', 'TRACY,  ROBERT J', 'FORD II,  RICHARD C', 'ESCALANTE,  JOHN J', 'FOX,  MICHAEL W', 'MORITA,  JULIA Y', 'SCHRADER,  LISA P', 'KOCH,  STEVEN', 'CHARLESTON,  EITHELL A', 'ARMSTRONG,  OTIS', 'DATRO,  BLANCA E', 'JONES,  ERNESTINE', 'SMITH,  KELLY', 'ZAMAYOA,  ALYSSA-MARIE', 'HAYES,  PATRICIA S', 'JONES,  LACINDA', 'GEERS,  DIANE M']\n",
      "\n",
      "Position Title : ['SUPERINTENDENT OF POLICE', 'MAYOR', 'FIRE COMMISSIONER', 'FIRST DEPUTY SUPERINTENDENT', 'CHIEF', 'DEPUTY FIRE COMMISSIONER', 'CHIEF', 'ASST DEPUTY FIRE COMMISSIONER', 'COMMISSIONER OF HEALTH', 'CHIEF OF STAFF', 'ADMINISTRATIVE SECRETARY', 'FOSTER GRANDPARENT', 'ALDERMANIC AIDE', 'LIBRARY PAGE', 'TITLE V PROGRAM TRAINEE I', 'STUDENT INTERN', 'PROGRAM AIDE', 'HOSPITALITY WORKER', 'STUDENT INTERN', 'ALDERMANIC AIDE']\n",
      "\n",
      "Department : ['POLICE', \"MAYOR'S OFFICE\", 'FIRE', 'POLICE', 'POLICE', 'FIRE', 'POLICE', 'FIRE', 'HEALTH', \"MAYOR'S OFFICE\", \"MAYOR'S OFFICE\", 'FAMILY & SUPPORT', 'CITY COUNCIL', 'PUBLIC LIBRARY', 'FAMILY & SUPPORT', 'FINANCE', 'POLICE', 'FAMILY & SUPPORT', 'HUMAN RESOURCES', 'CITY COUNCIL']\n",
      "\n",
      "Employee Annual Salary : [260004.0, 216210.0, 202728.0, 197736.0, 194256.0, 187680.0, 185364.0, 185352.0, 177000.0, 174996.0, 0.96, 2756.0, 5200.0, 6203.6, 8580.0, 8840.0, 9360.0, 9516.0, 9880.0, 10400.0]\n",
      "\n"
     ]
    }
   ],
   "source": [
    "# Lendo Json\n",
    "with open('arquivos/salarios.json', 'r', newline = '') as f:\n",
    "    leitura = f.read()\n",
    "    dados = json.loads(leitura)\n",
    "    \n",
    "    for chave in dados.keys(): print('{chaves} : {valores}\\n'.format(chaves = chave, valores = dados[chave]))"
   ]
  },
  {
   "cell_type": "code",
   "execution_count": 19,
   "metadata": {},
   "outputs": [],
   "source": [
    "del maiores_salarios, menores_salarios, dataset, dict, nomes, cargos, departamentos, salarios, arquivo"
   ]
  },
  {
   "cell_type": "markdown",
   "metadata": {},
   "source": [
    "<h3 style=\"color:red\">\n",
    "5) Salvando dados do JSON num txt\n",
    "</h3>"
   ]
  },
  {
   "cell_type": "code",
   "execution_count": 20,
   "metadata": {},
   "outputs": [],
   "source": [
    "# Lendo o arquivo Json\n",
    "arquivo = None\n",
    "\n",
    "with open('arquivos/salarios.json', 'r', newline = '') as f:\n",
    "    arquivo = f.read()\n",
    "    arquivo = json.loads(arquivo)"
   ]
  },
  {
   "cell_type": "code",
   "execution_count": 21,
   "metadata": {},
   "outputs": [],
   "source": [
    "# Separando dados do Json numa lista\n",
    "dados = []\n",
    "for tipo_dado in arquivo.keys(): dados.append('{chave} = {valor}'.format(chave = tipo_dado, valor = arquivo[tipo_dado]))"
   ]
  },
  {
   "cell_type": "code",
   "execution_count": 22,
   "metadata": {},
   "outputs": [],
   "source": [
    "# Salvando dados no txt\n",
    "with open('arquivos/salarios.txt', 'w', newline = '') as f: \n",
    "    for elemento in dados: f.write(elemento + '\\n\\n')"
   ]
  },
  {
   "cell_type": "code",
   "execution_count": 23,
   "metadata": {},
   "outputs": [],
   "source": [
    "del arquivo, dados"
   ]
  }
 ],
 "metadata": {
  "kernelspec": {
   "display_name": "Python 3",
   "language": "python",
   "name": "python3"
  },
  "language_info": {
   "codemirror_mode": {
    "name": "ipython",
    "version": 3
   },
   "file_extension": ".py",
   "mimetype": "text/x-python",
   "name": "python",
   "nbconvert_exporter": "python",
   "pygments_lexer": "ipython3",
   "version": "3.7.3"
  }
 },
 "nbformat": 4,
 "nbformat_minor": 2
}
